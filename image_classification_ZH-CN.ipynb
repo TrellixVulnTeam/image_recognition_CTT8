{
 "cells": [
  {
   "cell_type": "markdown",
   "metadata": {
    "collapsed": true
   },
   "source": [
    "# Image Classification\n",
    "In this project, you'll classify images from the [CIFAR-10 dataset](https://www.cs.toronto.edu/~kriz/cifar.html).  The dataset consists of airplanes, dogs, cats, and other objects. You'll preprocess the images, then train a convolutional neural network on all the samples. The images need to be normalized and the labels need to be one-hot encoded.  You'll get to apply what you learned and build a convolutional, max pooling, dropout, and fully connected layers.  At the end, you'll get to see your neural network's predictions on the sample images.\n",
    "## Get the Data\n",
    "Run the following cell to download the [CIFAR-10 dataset for python](https://www.cs.toronto.edu/~kriz/cifar-10-python.tar.gz)."
   ]
  },
  {
   "cell_type": "markdown",
   "metadata": {},
   "source": [
    "\n",
    "# 图像分类\n",
    "\n",
    "在该项目中，你将会对来自 [CIFAR-10 数据集](https://www.cs.toronto.edu/~kriz/cifar.html) 中的图像进行分类。数据集中图片的内容包括飞机（airplane）、狗（dogs）、猫（cats）及其他物体。你需要处理这些图像，接着对所有的样本训练一个卷积神经网络。\n",
    "\n",
    "具体而言，在项目中你要对图像进行正规化处理（normalization)，同时还要对图像的标签进行 one-hot 编码。接着你将会应用到你所学的技能来搭建一个具有卷积层、最大池化（Max Pooling）层、Dropout  层及全连接（fully connected）层的神经网络。最后，你会训练你的神经网络，会得到你神经网络在样本图像上的预测结果。\n",
    "\n",
    "## 下载数据\n",
    "\n",
    "运行如下代码下载 [CIFAR-10 dataset for python](https://www.cs.toronto.edu/~kriz/cifar-10-python.tar.gz)。"
   ]
  },
  {
   "cell_type": "code",
   "execution_count": 1,
   "metadata": {
    "collapsed": false
   },
   "outputs": [
    {
     "name": "stdout",
     "output_type": "stream",
     "text": [
      "All files found!\n"
     ]
    }
   ],
   "source": [
    "\"\"\"\n",
    "DON'T MODIFY ANYTHING IN THIS CELL THAT IS BELOW THIS LINE\n",
    "\"\"\"\n",
    "from urllib.request import urlretrieve\n",
    "from os.path import isfile, isdir\n",
    "from tqdm import tqdm\n",
    "import problem_unittests as tests\n",
    "import tarfile\n",
    "\n",
    "cifar10_dataset_folder_path = 'cifar-10-batches-py'\n",
    "\n",
    "class DLProgress(tqdm):\n",
    "    last_block = 0\n",
    "\n",
    "    def hook(self, block_num=1, block_size=1, total_size=None):\n",
    "        self.total = total_size\n",
    "        self.update((block_num - self.last_block) * block_size)\n",
    "        self.last_block = block_num\n",
    "\n",
    "if not isfile('cifar-10-python.tar.gz'):\n",
    "    with DLProgress(unit='B', unit_scale=True, miniters=1, desc='CIFAR-10 Dataset') as pbar:\n",
    "        urlretrieve(\n",
    "            'https://www.cs.toronto.edu/~kriz/cifar-10-python.tar.gz',\n",
    "            'cifar-10-python.tar.gz',\n",
    "            pbar.hook)\n",
    "\n",
    "if not isdir(cifar10_dataset_folder_path):\n",
    "    with tarfile.open('cifar-10-python.tar.gz') as tar:\n",
    "        tar.extractall()\n",
    "        tar.close()\n",
    "\n",
    "\n",
    "tests.test_folder_path(cifar10_dataset_folder_path)"
   ]
  },
  {
   "cell_type": "markdown",
   "metadata": {},
   "source": [
    "## Explore the Data\n",
    "The dataset is broken into batches to prevent your machine from running out of memory.  The CIFAR-10 dataset consists of 5 batches, named `data_batch_1`, `data_batch_2`, etc.. Each batch contains the labels and images that are one of the following:\n",
    "* airplane\n",
    "* automobile\n",
    "* bird\n",
    "* cat\n",
    "* deer\n",
    "* dog\n",
    "* frog\n",
    "* horse\n",
    "* ship\n",
    "* truck\n",
    "\n",
    "Understanding a dataset is part of making predictions on the data.  Play around with the code cell below by changing the `batch_id` and `sample_id`. The `batch_id` is the id for a batch (1-5). The `sample_id` is the id for a image and label pair in the batch.\n",
    "\n",
    "Ask yourself \"What are all possible labels?\", \"What is the range of values for the image data?\", \"Are the labels in order or random?\".  Answers to questions like these will help you preprocess the data and end up with better predictions."
   ]
  },
  {
   "cell_type": "markdown",
   "metadata": {},
   "source": [
    "## 探索数据集\n",
    "\n",
    "\n",
    "为防止在运行过程中内存不足的问题，该数据集已经事先被分成了5批（batch），名为`data_batch_1`、`data_batch_2`等。每一批中都含有 *图像* 及对应的 *标签*，都是如下类别中的一种：\n",
    "\n",
    "* 飞机\n",
    "* 汽车\n",
    "* 鸟\n",
    "* 鹿\n",
    "* 狗\n",
    "* 青蛙\n",
    "* 马\n",
    "* 船\n",
    "* 卡车\n",
    "\n",
    "理解数据集也是对数据进行预测的一部分。修改如下代码中的 `batch_id` 和 `sample_id`，看看输出的图像是什么样子。其中，`batch_id` 代表着批次数（1-5），`sample_id` 代表着在该批内图像及标签的编号。\n",
    "\n",
    "你可以尝试回答如下问题：\n",
    "* 可能出现的 *标签* 都包括哪些？\n",
    "* 图像数据的取值范围是多少？\n",
    "* *标签* 的排列顺序是随机的还是有序的？\n",
    "\n",
    "对这些问题的回答，会有助于更好地处理数据，并能更好地进行预测。"
   ]
  },
  {
   "cell_type": "code",
   "execution_count": 2,
   "metadata": {
    "collapsed": false
   },
   "outputs": [
    {
     "name": "stdout",
     "output_type": "stream",
     "text": [
      "\n",
      "Stats of batch 1:\n",
      "Samples: 10000\n",
      "Label Counts: {0: 1005, 1: 974, 2: 1032, 3: 1016, 4: 999, 5: 937, 6: 1030, 7: 1001, 8: 1025, 9: 981}\n",
      "First 20 Labels: [6, 9, 9, 4, 1, 1, 2, 7, 8, 3, 4, 7, 7, 2, 9, 9, 9, 3, 2, 6]\n",
      "\n",
      "Example of Image 5:\n",
      "Image - Min Value: 0 Max Value: 252\n",
      "Image - Shape: (32, 32, 3)\n",
      "Label - Label Id: 1 Name: automobile\n"
     ]
    },
    {
     "data": {
      "image/png": "[encoded data removed]",
      "text/plain": [
       "<matplotlib.figure.Figure at 0x1e10ff3c7b8>"
      ]
     },
     "metadata": {
      "image/png": {
       "height": 250,
       "width": 253
      }
     },
     "output_type": "display_data"
    }
   ],
   "source": [
    "%matplotlib inline\n",
    "%config InlineBackend.figure_format = 'retina'\n",
    "\n",
    "import helper\n",
    "import numpy as np\n",
    "\n",
    "# Explore the dataset\n",
    "batch_id = 1\n",
    "sample_id = 5\n",
    "helper.display_stats(cifar10_dataset_folder_path, batch_id, sample_id)"
   ]
  },
  {
   "cell_type": "markdown",
   "metadata": {},
   "source": [
    "## Implement Preprocess Functions\n",
    "### Normalize\n",
    "In the cell below, implement the `normalize` function to take in image data, `x`, and return it as a normalized Numpy array. The values should be in the range of 0 to 1, inclusive.  The return object should be the same shape as `x`."
   ]
  },
  {
   "cell_type": "markdown",
   "metadata": {},
   "source": [
    "## 图像预处理功能的实现\n",
    "### 归一化\n",
    "\n",
    "在如下的代码中，修改 `normalize` 函数，使之能够对输入的图像数据 `x` 进行处理，输出一个经过正规化的、Numpy array 格式的图像数据。\n",
    "\n",
    "**注意：**\n",
    "处理后的值应当在 $[0,1]$ 的范围之内。返回值应当和输入值具有相同的形状。"
   ]
  },
  {
   "cell_type": "code",
   "execution_count": 3,
   "metadata": {
    "collapsed": false
   },
   "outputs": [
    {
     "name": "stdout",
     "output_type": "stream",
     "text": [
      "Tests Passed\n"
     ]
    }
   ],
   "source": [
    "def normalize(x):\n",
    "    \"\"\"\n",
    "    Normalize a list of sample image data in the range of 0 to 1\n",
    "    : x: List of image data.  The image shape is (32, 32, 3)\n",
    "    : return: Numpy array of normalize data\n",
    "    \"\"\"\n",
    "    # TODO: Implement Function\n",
    "    return np.array(x)/255.\n",
    "\n",
    "\n",
    "\"\"\"\n",
    "DON'T MODIFY ANYTHING IN THIS CELL THAT IS BELOW THIS LINE\n",
    "\"\"\"\n",
    "tests.test_normalize(normalize)"
   ]
  },
  {
   "cell_type": "markdown",
   "metadata": {},
   "source": [
    "### One-hot encode\n",
    "Just like the previous code cell, you'll be implementing a function for preprocessing.  This time, you'll implement the `one_hot_encode` function. The input, `x`, are a list of labels.  Implement the function to return the list of labels as One-Hot encoded Numpy array.  The possible values for labels are 0 to 9. The one-hot encoding function should return the same encoding for each value between each call to `one_hot_encode`.  Make sure to save the map of encodings outside the function.\n",
    "\n",
    "**Hint:**\n",
    "\n",
    "Look into LabelBinarizer in the preprocessing module of sklearn."
   ]
  },
  {
   "cell_type": "markdown",
   "metadata": {},
   "source": [
    "### One-hot 编码\n",
    "\n",
    "在如下代码中，你将继续实现预处理的功能，实现一个 `one_hot_encode` 函数。函数的输入 `x` 是 *标签* 构成的列表，返回值是经过 One_hot 处理过后的这列 *标签* 对应的 One_hot 编码，以 Numpy array 储存。其中，*标签* 的取值范围从0到9。每次调用该函数时，对相同的标签值，它输出的编码也是相同的。请确保在函数外保存编码的映射（map of encodings）。\n",
    "\n",
    "**提示：**\n",
    "\n",
    "你可以尝试使用 sklearn preprocessing 模块中的 `LabelBinarizer` 函数。"
   ]
  },
  {
   "cell_type": "code",
   "execution_count": 4,
   "metadata": {
    "collapsed": false
   },
   "outputs": [
    {
     "name": "stdout",
     "output_type": "stream",
     "text": [
      "Tests Passed\n"
     ]
    }
   ],
   "source": [
    "def one_hot_encode(x):\n",
    "    \"\"\"\n",
    "    One hot encode a list of sample labels. Return a one-hot encoded vector for each label.\n",
    "    : x: List of sample Labels\n",
    "    : return: Numpy array of one-hot encoded labels\n",
    "    \"\"\"\n",
    "    # TODO: Implement Function\n",
    "    labels = np.array(x)\n",
    "    one_hot = np.zeros((labels.shape[0],10))\n",
    "    one_hot[np.arange(labels.shape[0]),x] = 1\n",
    "    \n",
    "    return one_hot\n",
    "\n",
    "\n",
    "\"\"\"\n",
    "DON'T MODIFY ANYTHING IN THIS CELL THAT IS BELOW THIS LINE\n",
    "\"\"\"\n",
    "tests.test_one_hot_encode(one_hot_encode)"
   ]
  },
  {
   "cell_type": "markdown",
   "metadata": {},
   "source": [
    "### Randomize Data\n",
    "As you saw from exploring the data above, the order of the samples are randomized.  It doesn't hurt to randomize it again, but you don't need to for this dataset."
   ]
  },
  {
   "cell_type": "markdown",
   "metadata": {},
   "source": [
    "### 随机打乱数据\n",
    "\n",
    "正如你在上方探索数据部分所看到的，样本的顺序已经被随机打乱了。尽管再随机处理一次也没问题，不过对于该数据我们没必要再进行一次相关操作了。"
   ]
  },
  {
   "cell_type": "markdown",
   "metadata": {},
   "source": [
    "## Preprocess all the data and save it\n",
    "Running the code cell below will preprocess all the CIFAR-10 data and save it to file. The code below also uses 10% of the training data for validation."
   ]
  },
  {
   "cell_type": "markdown",
   "metadata": {},
   "source": [
    "## 对所有图像数据进行预处理并保存结果\n",
    "\n",
    "运行如下代码，它将会预处理所有的 CIFAR-10 数据并将它另存为文件。此外，如下的代码还将会把 10% 的训练数据留出作为验证数据。"
   ]
  },
  {
   "cell_type": "code",
   "execution_count": 5,
   "metadata": {
    "collapsed": true
   },
   "outputs": [],
   "source": [
    "\"\"\"\n",
    "DON'T MODIFY ANYTHING IN THIS CELL\n",
    "\"\"\"\n",
    "# Preprocess Training, Validation, and Testing Data\n",
    "helper.preprocess_and_save_data(cifar10_dataset_folder_path, normalize, one_hot_encode)"
   ]
  },
  {
   "cell_type": "markdown",
   "metadata": {},
   "source": [
    "# Check Point\n",
    "This is your first checkpoint.  If you ever decide to come back to this notebook or have to restart the notebook, you can start from here.  The preprocessed data has been saved to disk."
   ]
  },
  {
   "cell_type": "markdown",
   "metadata": {},
   "source": [
    "# 检查点\n",
    "\n",
    "这是你的首个检查点。因为预处理完的数据已经被保存到硬盘上了，所以如果你需要回顾或重启该 notebook，你可以在这里重新开始。"
   ]
  },
  {
   "cell_type": "code",
   "execution_count": 1,
   "metadata": {
    "collapsed": false
   },
   "outputs": [],
   "source": [
    "\"\"\"\n",
    "DON'T MODIFY ANYTHING IN THIS CELL\n",
    "\"\"\"\n",
    "import pickle\n",
    "import problem_unittests as tests\n",
    "import helper\n",
    "import numpy as np\n",
    "\n",
    "# Load the Preprocessed Validation data\n",
    "valid_features, valid_labels = pickle.load(open('preprocess_validation.p', mode='rb'))"
   ]
  },
  {
   "cell_type": "markdown",
   "metadata": {},
   "source": [
    "## Build the network\n",
    "For the neural network, you'll build each layer into a function.  Most of the code you've seen has been outside of functions. To test your code more thoroughly, we require that you put each layer in a function.  This allows us to give you better feedback and test for simple mistakes using our unittests before you submit your project.\n",
    "\n",
    ">**Note:** If you're finding it hard to dedicate enough time for this course each week, we've provided a small shortcut to this part of the project. In the next couple of problems, you'll have the option to use classes from the [TensorFlow Layers](https://www.tensorflow.org/api_docs/python/tf/layers) or [TensorFlow Layers (contrib)](https://www.tensorflow.org/api_guides/python/contrib.layers) packages to build each layer, except the layers you build in the \"Convolutional and Max Pooling Layer\" section.  TF Layers is similar to Keras's and TFLearn's abstraction to layers, so it's easy to pickup.\n",
    "\n",
    ">However, if you would like to get the most out of this course, try to solve all the problems _without_ using anything from the TF Layers packages. You **can** still use classes from other packages that happen to have the same name as ones you find in TF Layers! For example, instead of using the TF Layers version of the `conv2d` class, [tf.layers.conv2d](https://www.tensorflow.org/api_docs/python/tf/layers/conv2d), you would want to use the TF Neural Network version of `conv2d`, [tf.nn.conv2d](https://www.tensorflow.org/api_docs/python/tf/nn/conv2d). \n",
    "\n",
    "Let's begin!\n",
    "\n",
    "### Input\n",
    "The neural network needs to read the image data, one-hot encoded labels, and dropout keep probability. Implement the following functions\n",
    "* Implement `neural_net_image_input`\n",
    " * Return a [TF Placeholder](https://www.tensorflow.org/api_docs/python/tf/placeholder)\n",
    " * Set the shape using `image_shape` with batch size set to `None`.\n",
    " * Name the TensorFlow placeholder \"x\" using the TensorFlow `name` parameter in the [TF Placeholder](https://www.tensorflow.org/api_docs/python/tf/placeholder).\n",
    "* Implement `neural_net_label_input`\n",
    " * Return a [TF Placeholder](https://www.tensorflow.org/api_docs/python/tf/placeholder)\n",
    " * Set the shape using `n_classes` with batch size set to `None`.\n",
    " * Name the TensorFlow placeholder \"y\" using the TensorFlow `name` parameter in the [TF Placeholder](https://www.tensorflow.org/api_docs/python/tf/placeholder).\n",
    "* Implement `neural_net_keep_prob_input`\n",
    " * Return a [TF Placeholder](https://www.tensorflow.org/api_docs/python/tf/placeholder) for dropout keep probability.\n",
    " * Name the TensorFlow placeholder \"keep_prob\" using the TensorFlow `name` parameter in the [TF Placeholder](https://www.tensorflow.org/api_docs/python/tf/placeholder).\n",
    "\n",
    "These names will be used at the end of the project to load your saved model.\n",
    "\n",
    "Note: `None` for shapes in TensorFlow allow for a dynamic size."
   ]
  },
  {
   "cell_type": "markdown",
   "metadata": {},
   "source": [
    "## 搭建神经网络\n",
    "\n",
    "为搭建神经网络，你需要将搭建每一层的过程封装到一个函数中。大部分的代码你在函数外已经见过。为能够更透彻地测试你的代码，我们要求你把每一层都封装到一个函数中。这能够帮助我们给予你更好的回复，同时还能让我们使用 unittests 在你提交报告前检测出你项目中的小问题。\n",
    "\n",
    ">**注意：** 如果你时间紧迫，那么在该部分我们为你提供了一个便捷方法。在接下来的一些问题中，你可以使用来自 [TensorFlow Layers](https://www.tensorflow.org/api_docs/python/tf/layers) 或 [TensorFlow Layers (contrib)](https://www.tensorflow.org/api_guides/python/contrib.layers) 包中的函数来搭建各层，不过不可以用他们搭建卷积-最大池化层。TF Layers 和 Keras 及 TFLean 中对层的抽象比较相似，所以你应该很容易上手。\n",
    "\n",
    ">\n",
    "\n",
    "\n",
    "However, if you would like to get the most out of this course, try to solve all the problems _without_ using anything from the TF Layers packages. You **can** still use classes from other packages that happen to have the same name as ones you find in TF Layers! For example, instead of using the TF Layers version of the `conv2d` class, [tf.layers.conv2d](https://www.tensorflow.org/api_docs/python/tf/layers/conv2d), you would want to use the TF Neural Network version of `conv2d`, [tf.nn.conv2d](https://www.tensorflow.org/api_docs/python/tf/nn/conv2d). \n",
    "\n",
    "不过，如果你希望能够更多地实践，我们希望你能够在**不**使用 TF Layers 的情况下解决所有问题。你依然**能**使用来自其他包但和 layers 中重名的函数。例如，你可以使用 TF Neural Network 版本的 `conv_2d\n",
    "\n",
    "让我们开始吧！\n",
    "\n",
    "### 输入\n",
    "\n",
    "神经网络需要能够读取图像数据、经 one-hot 编码之后的标签及 dropout 中的保留概率。修改如下函数：\n",
    "\n",
    "* 修改 `neural_net_image_input` 函数：\n",
    " * 返回 [TF Placeholder](https://www.tensorflow.org/api_docs/python/tf/placeholder)。\n",
    " * 使用 `image_shape` 设定形状，设定批大小（batch size)为 `None`。\n",
    " * 使用 [TF Placeholder](https://www.tensorflow.org/api_docs/python/tf/placeholder) 中的 `Name` 参数，命名该 TensorFlow placeholder 为 \"x\"。\n",
    "* 修改 `neural_net_label_input` 函数： \n",
    " * 返回 [TF Placeholder](https://www.tensorflow.org/api_docs/python/tf/placeholder)。\n",
    " * 使用 `n_classes` 设定形状，设定批大小（batch size)为 `None`。\n",
    " * 使用 [TF Placeholder](https://www.tensorflow.org/api_docs/python/tf/placeholder) 中的 `Name` 参数，命名该 TensorFlow placeholder 为 \"y\"。\n",
    "* 修改 `neural_net_keep_prob_input` 函数：\n",
    " * 返回 [TF Placeholder](https://www.tensorflow.org/api_docs/python/tf/placeholder) 作为 dropout 的保留概率（keep probability）。\n",
    " * 使用 [TF Placeholder](https://www.tensorflow.org/api_docs/python/tf/placeholder) 中的 `Name` 参数，命名该 TensorFlow placeholder 为 \"keep_prob\"。\n",
    " \n",
    "我们会在项目最后使用这些名字，来载入你储存的模型。\n",
    "\n",
    "**注意：**在 TensorFlow 中，对形状设定为 `None`，能帮助设定一个动态的大小。"
   ]
  },
  {
   "cell_type": "code",
   "execution_count": 2,
   "metadata": {
    "collapsed": false
   },
   "outputs": [
    {
     "name": "stdout",
     "output_type": "stream",
     "text": [
      "Image Input Tests Passed.\n",
      "Label Input Tests Passed.\n",
      "Keep Prob Tests Passed.\n"
     ]
    }
   ],
   "source": [
    "import tensorflow as tf\n",
    "\n",
    "def neural_net_image_input(image_shape):\n",
    "    \"\"\"\n",
    "    Return a Tensor for a batch of image input\n",
    "    : image_shape: Shape of the images\n",
    "    : return: Tensor for image input.\n",
    "    \"\"\"\n",
    "    # TODO: Implement Function\n",
    "    x = tf.placeholder(tf.float32,[None,image_shape[0],image_shape[1],image_shape[2]],name=\"x\")\n",
    "    return x\n",
    "\n",
    "\n",
    "def neural_net_label_input(n_classes):\n",
    "    \"\"\"\n",
    "    Return a Tensor for a batch of label input\n",
    "    : n_classes: Number of classes\n",
    "    : return: Tensor for label input.\n",
    "    \"\"\"\n",
    "    # TODO: Implement Function\n",
    "    y = tf.placeholder(tf.float32,[None,n_classes],name=\"y\")\n",
    "    return y\n",
    "\n",
    "\n",
    "def neural_net_keep_prob_input():\n",
    "    \"\"\"\n",
    "    Return a Tensor for keep probability\n",
    "    : return: Tensor for keep probability.\n",
    "    \"\"\"\n",
    "    # TODO: Implement Function\n",
    "    keep_prob = tf.placeholder(tf.float32,name=\"keep_prob\")\n",
    "    return keep_prob\n",
    "\n",
    "\n",
    "\"\"\"\n",
    "DON'T MODIFY ANYTHING IN THIS CELL THAT IS BELOW THIS LINE\n",
    "\"\"\"\n",
    "tf.reset_default_graph()\n",
    "tests.test_nn_image_inputs(neural_net_image_input)\n",
    "tests.test_nn_label_inputs(neural_net_label_input)\n",
    "tests.test_nn_keep_prob_inputs(neural_net_keep_prob_input)"
   ]
  },
  {
   "cell_type": "markdown",
   "metadata": {},
   "source": [
    "### Convolution and Max Pooling Layer\n",
    "Convolution layers have a lot of success with images. For this code cell, you should implement the function `conv2d_maxpool` to apply convolution then max pooling:\n",
    "* Create the weight and bias using `conv_ksize`, `conv_num_outputs` and the shape of `x_tensor`.\n",
    "* Apply a convolution to `x_tensor` using weight and `conv_strides`.\n",
    " * We recommend you use same padding, but you're welcome to use any padding.\n",
    "* Add bias\n",
    "* Add a nonlinear activation to the convolution.\n",
    "* Apply Max Pooling using `pool_ksize` and `pool_strides`.\n",
    " * We recommend you use same padding, but you're welcome to use any padding.\n",
    "\n",
    "**Note:** You **can't** use [TensorFlow Layers](https://www.tensorflow.org/api_docs/python/tf/layers) or [TensorFlow Layers (contrib)](https://www.tensorflow.org/api_guides/python/contrib.layers) for **this** layer, but you can still use TensorFlow's [Neural Network](https://www.tensorflow.org/api_docs/python/tf/nn) package. You may still use the shortcut option for all the **other** layers.\n",
    "\n",
    "** Hint: **\n",
    "\n",
    "When unpacking values as an argument in Python, look into the [unpacking](https://docs.python.org/3/tutorial/controlflow.html#unpacking-argument-lists) operator. "
   ]
  },
  {
   "cell_type": "markdown",
   "metadata": {},
   "source": [
    "### 卷积-最大池（Convolution and Max Pooling）化层\n",
    "\n",
    "卷积层在图像处理中取得了不小的成功。在这部分的代码中，你需要修改 `conv2d_maxpool` 函数来先后实现卷积及最大池化的功能。\n",
    "\n",
    "* 使用 `conv_ksize`、`conv_num_outputs` 及 `x_tensor` 来创建权重（weight）及偏差（bias）变量。\n",
    "* 对 `x_tensor` 进行卷积，使用 `conv_strides` 及*权重*。\n",
    " * 我们建议使用 SAME padding，不过你也可尝试其他 padding 模式。 \n",
    "* 加上*偏差*。\n",
    "* 对卷积结果加上一个非线性函数作为激活层。\n",
    "* 基于 `pool_kszie` 及 `pool_strides` 进行最大池化。\n",
    " * 我们建议使用 SAME padding，不过你也可尝试其他 padding 模式。\n",
    " \n",
    "**注意：**\n",
    "你**不**可以使用来自 [TensorFlow Layers](https://www.tensorflow.org/api_docs/python/tf/layers) 或 [TensorFlow Layers (contrib)](https://www.tensorflow.org/api_guides/python/contrib.layers) 包中的函数来实现**这一层**的功能。但是你可以使用 TensorFlow 的[Neural Network](https://www.tensorflow.org/api_docs/python/tf/nn)包。\n",
    "\n",
    "对于如上的快捷方法，你在**其他层**中可以尝试使用。\n",
    "\n",
    "\n",
    "**提示：**\n",
    "当你在 Python 中希望展开（unpacking）某个变量的值作为函数的参数，你可以参考 [unpacking](https://docs.python.org/3/tutorial/controlflow.html#unpacking-argument-lists) 运算符。"
   ]
  },
  {
   "cell_type": "code",
   "execution_count": 3,
   "metadata": {
    "collapsed": false
   },
   "outputs": [
    {
     "name": "stdout",
     "output_type": "stream",
     "text": [
      "Tests Passed\n"
     ]
    }
   ],
   "source": [
    "def conv2d_maxpool(x_tensor, conv_num_outputs, conv_ksize, conv_strides, pool_ksize, pool_strides):\n",
    "    \"\"\"\n",
    "    Apply convolution then max pooling to x_tensor\n",
    "    :param x_tensor: TensorFlow Tensor\n",
    "    :param conv_num_outputs: Number of outputs for the convolutional layer\n",
    "    :param conv_ksize: kernal size 2-D Tuple for the convolutional layer\n",
    "    :param conv_strides: Stride 2-D Tuple for convolution\n",
    "    :param pool_ksize: kernal size 2-D Tuple for pool\n",
    "    :param pool_strides: Stride 2-D Tuple for pool\n",
    "    : return: A tensor that represents convolution and max pooling of x_tensor\n",
    "    \"\"\"\n",
    "    # TODO: Implement Function\n",
    "    #参数：x_shape，weight，bias，padding\n",
    "    x_shape = x_tensor.get_shape().as_list()\n",
    "    weight = tf.Variable(tf.truncated_normal([conv_ksize[0],conv_ksize[1],x_shape[3],conv_num_outputs],stddev=0.01))\n",
    "    bias = tf.Variable(tf.zeros([conv_num_outputs]))\n",
    "    padding = \"SAME\"\n",
    "    #卷积\n",
    "    conv2d = tf.nn.conv2d(x_tensor,weight,strides=[1,conv_strides[0],conv_strides[1],1],padding=padding)\n",
    "    conv2d = tf.nn.bias_add(conv2d,bias)\n",
    "    conv2d = tf.nn.relu(conv2d)\n",
    "    #最大池化\n",
    "    max_pool = tf.nn.max_pool(conv2d,ksize=[1,pool_ksize[0],pool_ksize[1],1],strides=[1,pool_strides[0],pool_strides[1],1],padding=padding)\n",
    "    \n",
    "    return max_pool \n",
    "\n",
    "\n",
    "\"\"\"\n",
    "DON'T MODIFY ANYTHING IN THIS CELL THAT IS BELOW THIS LINE\n",
    "\"\"\"\n",
    "tests.test_con_pool(conv2d_maxpool)"
   ]
  },
  {
   "cell_type": "markdown",
   "metadata": {},
   "source": [
    "### Flatten Layer\n",
    "Implement the `flatten` function to change the dimension of `x_tensor` from a 4-D tensor to a 2-D tensor.  The output should be the shape (*Batch Size*, *Flattened Image Size*). Shortcut option: you can use classes from the [TensorFlow Layers](https://www.tensorflow.org/api_docs/python/tf/layers) or [TensorFlow Layers (contrib)](https://www.tensorflow.org/api_guides/python/contrib.layers) packages for this layer. For more of a challenge, only use other TensorFlow packages."
   ]
  },
  {
   "cell_type": "markdown",
   "metadata": {},
   "source": [
    "### 展开层\n",
    "\n",
    "修改 `flatten` 函数，来将4维的输入张量 `x_tensor` 转换为一个二维的张量。输出的形状应当是 `(Batch Size, Flattened Image Size)`。\n",
    "快捷方法：你可以使用来自 [TensorFlow Layers](https://www.tensorflow.org/api_docs/python/tf/layers) 或 [TensorFlow Layers (contrib)](https://www.tensorflow.org/api_guides/python/contrib.layers) 包中的函数来实现该功能。不过你也可以只使用 TensorFlow 包中的函数来挑战自己。"
   ]
  },
  {
   "cell_type": "code",
   "execution_count": 4,
   "metadata": {
    "collapsed": false
   },
   "outputs": [
    {
     "name": "stdout",
     "output_type": "stream",
     "text": [
      "Tests Passed\n"
     ]
    }
   ],
   "source": [
    "def flatten(x_tensor):\n",
    "    \"\"\"\n",
    "    Flatten x_tensor to (Batch Size, Flattened Image Size)\n",
    "    : x_tensor: A tensor of size (Batch Size, ...), where ... are the image dimensions.\n",
    "    : return: A tensor of size (Batch Size, Flattened Image Size).\n",
    "    \"\"\"\n",
    "    # TODO: Implement Function\n",
    "    flatten = tf.contrib.layers.flatten(x_tensor)\n",
    "    return flatten\n",
    "\n",
    "\n",
    "\"\"\"\n",
    "DON'T MODIFY ANYTHING IN THIS CELL THAT IS BELOW THIS LINE\n",
    "\"\"\"\n",
    "tests.test_flatten(flatten)"
   ]
  },
  {
   "cell_type": "markdown",
   "metadata": {},
   "source": [
    "### Fully-Connected Layer\n",
    "Implement the `fully_conn` function to apply a fully connected layer to `x_tensor` with the shape (*Batch Size*, *num_outputs*). Shortcut option: you can use classes from the [TensorFlow Layers](https://www.tensorflow.org/api_docs/python/tf/layers) or [TensorFlow Layers (contrib)](https://www.tensorflow.org/api_guides/python/contrib.layers) packages for this layer. For more of a challenge, only use other TensorFlow packages."
   ]
  },
  {
   "cell_type": "markdown",
   "metadata": {},
   "source": [
    "### 全连接层\n",
    "\n",
    "修改 `fully_conn` 函数，来对形如 `(batch Size, num_outputs)` 的输入 `x_tensor` 应用一个全连接层。快捷方法：你可以使用来自 [TensorFlow Layers](https://www.tensorflow.org/api_docs/python/tf/layers) 或 [TensorFlow Layers (contrib)](https://www.tensorflow.org/api_guides/python/contrib.layers) 包中的函数来实现该功能。不过你也可以只使用 TensorFlow 包中的函数来挑战自己。"
   ]
  },
  {
   "cell_type": "code",
   "execution_count": 5,
   "metadata": {
    "collapsed": false
   },
   "outputs": [
    {
     "name": "stdout",
     "output_type": "stream",
     "text": [
      "Tests Passed\n"
     ]
    }
   ],
   "source": [
    "def fully_conn(x_tensor, num_outputs):\n",
    "    \"\"\"\n",
    "    Apply a fully connected layer to x_tensor using weight and bias\n",
    "    : x_tensor: A 2-D tensor where the first dimension is batch size.\n",
    "    : num_outputs: The number of output that the new tensor should be.\n",
    "    : return: A 2-D tensor where the second dimension is num_outputs.\n",
    "    \"\"\"\n",
    "    # TODO: Implement Function\n",
    "    #参数：x_shape，weight,bias\n",
    "    x_shape = x_tensor.get_shape().as_list()\n",
    "    weights = tf.Variable(tf.truncated_normal([x_shape[1],num_outputs],stddev=0.1))\n",
    "    bias = tf.Variable(tf.zeros([num_outputs]))\n",
    "    #全连接层\n",
    "    fc1 = tf.reshape(x_tensor, [-1, weights.get_shape().as_list()[0]])\n",
    "    fc1 = tf.add(tf.matmul(fc1,weights),bias)\n",
    "    fc1 = tf.nn.relu(fc1)\n",
    "    return fc1\n",
    "\n",
    "\n",
    "\"\"\"\n",
    "DON'T MODIFY ANYTHING IN THIS CELL THAT IS BELOW THIS LINE\n",
    "\"\"\"\n",
    "tests.test_fully_conn(fully_conn)"
   ]
  },
  {
   "cell_type": "markdown",
   "metadata": {},
   "source": [
    "### Output Layer\n",
    "Implement the `output` function to apply a fully connected layer to `x_tensor` with the shape (*Batch Size*, *num_outputs*). Shortcut option: you can use classes from the [TensorFlow Layers](https://www.tensorflow.org/api_docs/python/tf/layers) or [TensorFlow Layers (contrib)](https://www.tensorflow.org/api_guides/python/contrib.layers) packages for this layer. For more of a challenge, only use other TensorFlow packages.\n",
    "\n",
    "**Note:** Activation, softmax, or cross entropy should **not** be applied to this."
   ]
  },
  {
   "cell_type": "markdown",
   "metadata": {},
   "source": [
    "### 输出层\n",
    "\n",
    "修改 `output` 函数，来对形如 `(batch Size, num_outputs)` 的输入 `x_tensor` 应用一个全连接层。快捷方法：你可以使用来自 [TensorFlow Layers](https://www.tensorflow.org/api_docs/python/tf/layers) 或 [TensorFlow Layers (contrib)](https://www.tensorflow.org/api_guides/python/contrib.layers) 包中的函数来实现该功能。不过你也可以只使用 TensorFlow 包中的函数来挑战自己。\n",
    "\n",
    "**注意：**\n",
    "激活函数、softmax 或者交叉熵（corss entropy）**不**应被加入到该层。"
   ]
  },
  {
   "cell_type": "code",
   "execution_count": 6,
   "metadata": {
    "collapsed": false
   },
   "outputs": [
    {
     "name": "stdout",
     "output_type": "stream",
     "text": [
      "Tests Passed\n"
     ]
    }
   ],
   "source": [
    "def output(x_tensor, num_outputs):\n",
    "    \"\"\"\n",
    "    Apply a output layer to x_tensor using weight and bias\n",
    "    : x_tensor: A 2-D tensor where the first dimension is batch size.\n",
    "    : num_outputs: The number of output that the new tensor should be.\n",
    "    : return: A 2-D tensor where the second dimension is num_outputs.\n",
    "    \"\"\"\n",
    "    # TODO: Implement Function\n",
    "    #参数：x_shape，weight,bias\n",
    "    x_shape = x_tensor.get_shape().as_list()\n",
    "    weight = tf.Variable(tf.truncated_normal([x_shape[1],num_outputs],stddev=0.1))\n",
    "    bias = tf.Variable(tf.zeros([num_outputs]))\n",
    "    #输出层\n",
    "    output = tf.add(tf.matmul(x_tensor,weight),bias)\n",
    "    return output\n",
    "\n",
    "\n",
    "\"\"\"\n",
    "DON'T MODIFY ANYTHING IN THIS CELL THAT IS BELOW THIS LINE\n",
    "\"\"\"\n",
    "tests.test_output(output)"
   ]
  },
  {
   "cell_type": "markdown",
   "metadata": {},
   "source": [
    "### Create Convolutional Model\n",
    "Implement the function `conv_net` to create a convolutional neural network model. The function takes in a batch of images, `x`, and outputs logits.  Use the layers you created above to create this model:\n",
    "\n",
    "* Apply 1, 2, or 3 Convolution and Max Pool layers\n",
    "* Apply a Flatten Layer\n",
    "* Apply 1, 2, or 3 Fully Connected Layers\n",
    "* Apply an Output Layer\n",
    "* Return the output\n",
    "* Apply [TensorFlow's Dropout](https://www.tensorflow.org/api_docs/python/tf/nn/dropout) to one or more layers in the model using `keep_prob`. "
   ]
  },
  {
   "cell_type": "markdown",
   "metadata": {},
   "source": [
    "### 创建卷积模型\n",
    "\n",
    "修改 `conv_net` 函数，使之能够生成一个卷积神经网络模型。该函数的输入为一批图像数据 `x`，输出为 logits。在函数中，使用上方你修改的创建各种层的函数来创建该模型：\n",
    "\n",
    "* 使用 1 到 3 个卷积-最大池化层\n",
    "* 使用一个展开层\n",
    "* 使用 1 到 3 个全连接层\n",
    "* 使用一个输出层\n",
    "* 返回呼出结果\n",
    "* 在一个或多个层上使用 [TensorFlow's Dropout](https://www.tensorflow.org/api_docs/python/tf/nn/dropout)，对应的保留概率为 `keep_prob`. "
   ]
  },
  {
   "cell_type": "code",
   "execution_count": 7,
   "metadata": {
    "collapsed": false
   },
   "outputs": [
    {
     "name": "stdout",
     "output_type": "stream",
     "text": [
      "Neural Network Built!\n"
     ]
    }
   ],
   "source": [
    "def conv_net(x, keep_prob):\n",
    "    \"\"\"\n",
    "    Create a convolutional neural network model\n",
    "    : x: Placeholder tensor that holds image data.\n",
    "    : keep_prob: Placeholder tensor that hold dropout keep probability.\n",
    "    : return: Tensor that represents logits\n",
    "    \"\"\"\n",
    "    # TODO: Apply 1, 2, or 3 Convolution and Max Pool layers\n",
    "    #    Play around with different number of outputs, kernel size and stride\n",
    "    # Function Definition from Above:\n",
    "    #    conv2d_maxpool(x_tensor, conv_num_outputs, conv_ksize, conv_strides, pool_ksize, pool_strides)\n",
    "    conv1 = conv2d_maxpool(x, 16, (5,5), (1,1), (3,3), (2,2))\n",
    "    conv2 = conv2d_maxpool(conv1, 32, (5,5), (1,1), (3,3), (2,2))\n",
    "    conv3 = conv2d_maxpool(conv2, 64, (5,5), (1,1), (3,3), (2,2))\n",
    "    \n",
    "\n",
    "    # TODO: Apply a Flatten Layer\n",
    "    # Function Definition from Above:\n",
    "    #   flatten(x_tensor)\n",
    "    f = flatten(conv3)\n",
    "    \n",
    "\n",
    "    # TODO: Apply 1, 2, or 3 Fully Connected Layers\n",
    "    #    Play around with different number of outputs\n",
    "    # Function Definition from Above:\n",
    "    #   fully_conn(x_tensor, num_outputs)\n",
    "    fc1 = fully_conn(f, 128)\n",
    "    fc1 = tf.nn.dropout(fc1, keep_prob)\n",
    "    \n",
    "    \n",
    "    \n",
    "    # TODO: Apply an Output Layer\n",
    "    #    Set this to the number of classes\n",
    "    # Function Definition from Above:\n",
    "    #   output(x_tensor, num_outputs)\n",
    "    net_output = output(fc1,10)\n",
    "    \n",
    "    \n",
    "    # TODO: return output\n",
    "    return net_output\n",
    "\n",
    "\"\"\"\n",
    "DON'T MODIFY ANYTHING IN THIS CELL THAT IS BELOW THIS LINE\n",
    "\"\"\"\n",
    "\n",
    "##############################\n",
    "## Build the Neural Network ##\n",
    "##############################\n",
    "\n",
    "# Remove previous weights, bias, inputs, etc..\n",
    "tf.reset_default_graph()\n",
    "\n",
    "# Inputs\n",
    "x = neural_net_image_input((32, 32, 3))\n",
    "y = neural_net_label_input(10)\n",
    "keep_prob = neural_net_keep_prob_input()\n",
    "\n",
    "# Model\n",
    "logits = conv_net(x, keep_prob)\n",
    "\n",
    "# Name logits Tensor, so that is can be loaded from disk after training\n",
    "logits = tf.identity(logits, name='logits')\n",
    "\n",
    "# Loss and Optimizer\n",
    "cost = tf.reduce_mean(tf.nn.softmax_cross_entropy_with_logits(logits=logits, labels=y))\n",
    "optimizer = tf.train.AdamOptimizer().minimize(cost)\n",
    "\n",
    "# Accuracy\n",
    "correct_pred = tf.equal(tf.argmax(logits, 1), tf.argmax(y, 1))\n",
    "accuracy = tf.reduce_mean(tf.cast(correct_pred, tf.float32), name='accuracy')\n",
    "\n",
    "tests.test_conv_net(conv_net)"
   ]
  },
  {
   "cell_type": "markdown",
   "metadata": {},
   "source": [
    "## Train the Neural Network\n",
    "### Single Optimization\n",
    "Implement the function `train_neural_network` to do a single optimization.  The optimization should use `optimizer` to optimize in `session` with a `feed_dict` of the following:\n",
    "* `x` for image input\n",
    "* `y` for labels\n",
    "* `keep_prob` for keep probability for dropout\n",
    "\n",
    "This function will be called for each batch, so `tf.global_variables_initializer()` has already been called.\n",
    "\n",
    "Note: Nothing needs to be returned. This function is only optimizing the neural network."
   ]
  },
  {
   "cell_type": "markdown",
   "metadata": {},
   "source": [
    "## 训练该神经网络\n",
    "\n",
    "### 最优化\n",
    "\n",
    "修改 `train_neural_network` 函数以执行单次最优化。该最优化过程应在一个 `session` 中使用 `optimizer` 来进行该过程，它的 `feed_dict` 包括：\n",
    "* `x` 代表输入图像\n",
    "* `y` 代表*标签*\n",
    "* `keep_prob` 为 Dropout 过程中的保留概率\n",
    "\n",
    "对每批数据该函数都会被调用，因而 `tf.global_variables_initializer()` 已经被调用过。\n",
    "\n",
    "注意：该函数并不要返回某个值，它只对神经网络进行最优化。"
   ]
  },
  {
   "cell_type": "code",
   "execution_count": 8,
   "metadata": {
    "collapsed": false
   },
   "outputs": [
    {
     "name": "stdout",
     "output_type": "stream",
     "text": [
      "Tests Passed\n"
     ]
    }
   ],
   "source": [
    "def train_neural_network(session, optimizer, keep_probability, feature_batch, label_batch):\n",
    "    \"\"\"\n",
    "    Optimize the session on a batch of images and labels\n",
    "    : session: Current TensorFlow session\n",
    "    : optimizer: TensorFlow optimizer function\n",
    "    : keep_probability: keep probability\n",
    "    : feature_batch: Batch of Numpy image data\n",
    "    : label_batch: Batch of Numpy label data\n",
    "    \"\"\"\n",
    "    # TODO: Implement Function\n",
    "    session.run(optimizer,feed_dict={x:feature_batch,y:label_batch,keep_prob:keep_probability})\n",
    "\n",
    "\n",
    "\"\"\"\n",
    "DON'T MODIFY ANYTHING IN THIS CELL THAT IS BELOW THIS LINE\n",
    "\"\"\"\n",
    "tests.test_train_nn(train_neural_network)"
   ]
  },
  {
   "cell_type": "markdown",
   "metadata": {},
   "source": [
    "### Show Stats\n",
    "Implement the function `print_stats` to print loss and validation accuracy.  Use the global variables `valid_features` and `valid_labels` to calculate validation accuracy.  Use a keep probability of `1.0` to calculate the loss and validation accuracy."
   ]
  },
  {
   "cell_type": "markdown",
   "metadata": {},
   "source": [
    "### 显示状态\n",
    "\n",
    "修改 `print_stats` 函数来打印 loss 值及验证准确率。 使用全局的变量 `valid_features` 及 `valid_labels` 来计算验证准确率。 设定保留概率为 1.0 来计算 loss 值及验证准确率。"
   ]
  },
  {
   "cell_type": "code",
   "execution_count": 9,
   "metadata": {
    "collapsed": true
   },
   "outputs": [],
   "source": [
    "def print_stats(session, feature_batch, label_batch, cost, accuracy):\n",
    "    \"\"\"\n",
    "    Print information about loss and validation accuracy\n",
    "    : session: Current TensorFlow session\n",
    "    : feature_batch: Batch of Numpy image data\n",
    "    : label_batch: Batch of Numpy label data\n",
    "    : cost: TensorFlow cost function\n",
    "    : accuracy: TensorFlow accuracy function\n",
    "    \"\"\"\n",
    "    # TODO: Implement Function\n",
    "    loss = session.run(cost,feed_dict={x:feature_batch,y:label_batch,keep_prob:1.})\n",
    "    valid_acc = session.run(accuracy,feed_dict={x:valid_features,y:valid_labels,keep_prob:1.})\n",
    "    print('Loss: {:>10.4f} Valadation: {:.6f}'.format(loss,valid_acc))"
   ]
  },
  {
   "cell_type": "markdown",
   "metadata": {},
   "source": [
    "### Hyperparameters\n",
    "Tune the following parameters:\n",
    "* Set `epochs` to the number of iterations until the network stops learning or start overfitting\n",
    "* Set `batch_size` to the highest number that your machine has memory for.  Most people set them to common sizes of memory:\n",
    " * 64\n",
    " * 128\n",
    " * 256\n",
    " * ...\n",
    "* Set `keep_probability` to the probability of keeping a node using dropout"
   ]
  },
  {
   "cell_type": "markdown",
   "metadata": {},
   "source": [
    "### 超参数调节\n",
    "\n",
    "你需要调节如下的参数：\n",
    "* 设定 `epoches` 为模型停止学习或开始过拟合时模型的迭代次数。\n",
    "* 设定 `batch_size` 为你内存能支持的最大值。一般我们设定该值为：\n",
    " * 64\n",
    " * 128\n",
    " * 256\n",
    " * ...\n",
    "* 设定 `keep_probability` 为在 dropout 过程中保留一个节点的概率。"
   ]
  },
  {
   "cell_type": "code",
   "execution_count": 12,
   "metadata": {
    "collapsed": true
   },
   "outputs": [],
   "source": [
    "# TODO: Tune Parameters\n",
    "epochs = 40\n",
    "batch_size = 256\n",
    "keep_probability = 0.5"
   ]
  },
  {
   "cell_type": "markdown",
   "metadata": {},
   "source": [
    "### Train on a Single CIFAR-10 Batch\n",
    "Instead of training the neural network on all the CIFAR-10 batches of data, let's use a single batch. This should save time while you iterate on the model to get a better accuracy.  Once the final validation accuracy is 50% or greater, run the model on all the data in the next section."
   ]
  },
  {
   "cell_type": "markdown",
   "metadata": {},
   "source": [
    "### 对单批 CIFAR-10 数据进行训练\n",
    "\n",
    "相比于在所有 CIFAR-10 数据上训练神经网络，我们首先使用一批数据进行训练。这会帮助你在调节模型提高精度的过程中节省时间。当最终的验证精度超过 50% 之后，你就可以前往下一节在所有数据上运行该模型了。"
   ]
  },
  {
   "cell_type": "code",
   "execution_count": 13,
   "metadata": {
    "collapsed": false,
    "scrolled": false
   },
   "outputs": [
    {
     "name": "stdout",
     "output_type": "stream",
     "text": [
      "Checking the Training on a Single Batch...\n",
      "Epoch  1, CIFAR-10 Batch 1:  Loss:     2.2334 Valadation: 0.178600\n",
      "Epoch  2, CIFAR-10 Batch 1:  Loss:     2.1475 Valadation: 0.268200\n",
      "Epoch  3, CIFAR-10 Batch 1:  Loss:     2.0782 Valadation: 0.310200\n",
      "Epoch  4, CIFAR-10 Batch 1:  Loss:     1.9524 Valadation: 0.352200\n",
      "Epoch  5, CIFAR-10 Batch 1:  Loss:     1.9551 Valadation: 0.357600\n",
      "Epoch  6, CIFAR-10 Batch 1:  Loss:     1.8105 Valadation: 0.399600\n",
      "Epoch  7, CIFAR-10 Batch 1:  Loss:     1.7944 Valadation: 0.401400\n",
      "Epoch  8, CIFAR-10 Batch 1:  Loss:     1.6591 Valadation: 0.419200\n",
      "Epoch  9, CIFAR-10 Batch 1:  Loss:     1.6743 Valadation: 0.424800\n",
      "Epoch 10, CIFAR-10 Batch 1:  Loss:     1.5420 Valadation: 0.435600\n",
      "Epoch 11, CIFAR-10 Batch 1:  Loss:     1.4813 Valadation: 0.441000\n",
      "Epoch 12, CIFAR-10 Batch 1:  Loss:     1.4596 Valadation: 0.454200\n",
      "Epoch 13, CIFAR-10 Batch 1:  Loss:     1.3782 Valadation: 0.453800\n",
      "Epoch 14, CIFAR-10 Batch 1:  Loss:     1.3161 Valadation: 0.466600\n",
      "Epoch 15, CIFAR-10 Batch 1:  Loss:     1.2697 Valadation: 0.457200\n",
      "Epoch 16, CIFAR-10 Batch 1:  Loss:     1.1890 Valadation: 0.468000\n",
      "Epoch 17, CIFAR-10 Batch 1:  Loss:     1.1647 Valadation: 0.464000\n",
      "Epoch 18, CIFAR-10 Batch 1:  Loss:     1.0825 Valadation: 0.476400\n",
      "Epoch 19, CIFAR-10 Batch 1:  Loss:     1.0179 Valadation: 0.481600\n",
      "Epoch 20, CIFAR-10 Batch 1:  Loss:     0.9527 Valadation: 0.494800\n",
      "Epoch 21, CIFAR-10 Batch 1:  Loss:     0.9349 Valadation: 0.500600\n",
      "Epoch 22, CIFAR-10 Batch 1:  Loss:     0.9278 Valadation: 0.495200\n",
      "Epoch 23, CIFAR-10 Batch 1:  Loss:     0.8682 Valadation: 0.490800\n",
      "Epoch 24, CIFAR-10 Batch 1:  Loss:     0.8150 Valadation: 0.497200\n",
      "Epoch 25, CIFAR-10 Batch 1:  Loss:     0.7553 Valadation: 0.499800\n",
      "Epoch 26, CIFAR-10 Batch 1:  Loss:     0.7159 Valadation: 0.513800\n",
      "Epoch 27, CIFAR-10 Batch 1:  Loss:     0.6956 Valadation: 0.510800\n",
      "Epoch 28, CIFAR-10 Batch 1:  Loss:     0.6110 Valadation: 0.534200\n",
      "Epoch 29, CIFAR-10 Batch 1:  Loss:     0.5997 Valadation: 0.511400\n",
      "Epoch 30, CIFAR-10 Batch 1:  Loss:     0.6503 Valadation: 0.499800\n",
      "Epoch 31, CIFAR-10 Batch 1:  Loss:     0.5661 Valadation: 0.519000\n",
      "Epoch 32, CIFAR-10 Batch 1:  Loss:     0.5447 Valadation: 0.513200\n",
      "Epoch 33, CIFAR-10 Batch 1:  Loss:     0.5325 Valadation: 0.537200\n",
      "Epoch 34, CIFAR-10 Batch 1:  Loss:     0.4589 Valadation: 0.544200\n",
      "Epoch 35, CIFAR-10 Batch 1:  Loss:     0.4527 Valadation: 0.555400\n",
      "Epoch 36, CIFAR-10 Batch 1:  Loss:     0.4298 Valadation: 0.560400\n",
      "Epoch 37, CIFAR-10 Batch 1:  Loss:     0.4512 Valadation: 0.547800\n",
      "Epoch 38, CIFAR-10 Batch 1:  Loss:     0.4037 Valadation: 0.554400\n",
      "Epoch 39, CIFAR-10 Batch 1:  Loss:     0.3875 Valadation: 0.547200\n",
      "Epoch 40, CIFAR-10 Batch 1:  Loss:     0.4044 Valadation: 0.545000\n"
     ]
    }
   ],
   "source": [
    "\"\"\"\n",
    "DON'T MODIFY ANYTHING IN THIS CELL\n",
    "\"\"\"\n",
    "print('Checking the Training on a Single Batch...')\n",
    "with tf.Session() as sess:\n",
    "    # Initializing the variables\n",
    "    sess.run(tf.global_variables_initializer())\n",
    "    \n",
    "    # Training cycle\n",
    "    for epoch in range(epochs):\n",
    "        batch_i = 1\n",
    "        for batch_features, batch_labels in helper.load_preprocess_training_batch(batch_i, batch_size):\n",
    "            train_neural_network(sess, optimizer, keep_probability, batch_features, batch_labels)\n",
    "        print('Epoch {:>2}, CIFAR-10 Batch {}:  '.format(epoch + 1, batch_i), end='')\n",
    "        print_stats(sess, batch_features, batch_labels, cost, accuracy)"
   ]
  },
  {
   "cell_type": "markdown",
   "metadata": {},
   "source": [
    "### Fully Train the Model\n",
    "Now that you got a good accuracy with a single CIFAR-10 batch, try it with all five batches."
   ]
  },
  {
   "cell_type": "markdown",
   "metadata": {},
   "source": [
    "### 完全训练该模型\n",
    "\n",
    "因为你在单批 CIFAR-10 数据上已经得到了一个不错的准确率了，那你可以尝试在所有五批数据上进行训练。"
   ]
  },
  {
   "cell_type": "code",
   "execution_count": 14,
   "metadata": {
    "collapsed": false
   },
   "outputs": [
    {
     "name": "stdout",
     "output_type": "stream",
     "text": [
      "Training...\n",
      "Epoch  1, CIFAR-10 Batch 1:  Loss:     2.2170 Valadation: 0.202400\n",
      "Epoch  1, CIFAR-10 Batch 2:  Loss:     2.0890 Valadation: 0.256400\n",
      "Epoch  1, CIFAR-10 Batch 3:  Loss:     1.8134 Valadation: 0.258200\n",
      "Epoch  1, CIFAR-10 Batch 4:  Loss:     1.8151 Valadation: 0.280600\n",
      "Epoch  1, CIFAR-10 Batch 5:  Loss:     1.9869 Valadation: 0.318200\n",
      "Epoch  2, CIFAR-10 Batch 1:  Loss:     1.9840 Valadation: 0.339400\n",
      "Epoch  2, CIFAR-10 Batch 2:  Loss:     1.9072 Valadation: 0.357600\n",
      "Epoch  2, CIFAR-10 Batch 3:  Loss:     1.5354 Valadation: 0.366600\n",
      "Epoch  2, CIFAR-10 Batch 4:  Loss:     1.6707 Valadation: 0.365200\n",
      "Epoch  2, CIFAR-10 Batch 5:  Loss:     1.8335 Valadation: 0.374400\n",
      "Epoch  3, CIFAR-10 Batch 1:  Loss:     1.8747 Valadation: 0.406800\n",
      "Epoch  3, CIFAR-10 Batch 2:  Loss:     1.7809 Valadation: 0.419200\n",
      "Epoch  3, CIFAR-10 Batch 3:  Loss:     1.3526 Valadation: 0.422000\n",
      "Epoch  3, CIFAR-10 Batch 4:  Loss:     1.6155 Valadation: 0.435400\n",
      "Epoch  3, CIFAR-10 Batch 5:  Loss:     1.6840 Valadation: 0.425600\n",
      "Epoch  4, CIFAR-10 Batch 1:  Loss:     1.7014 Valadation: 0.435600\n",
      "Epoch  4, CIFAR-10 Batch 2:  Loss:     1.7760 Valadation: 0.438400\n",
      "Epoch  4, CIFAR-10 Batch 3:  Loss:     1.2074 Valadation: 0.422600\n",
      "Epoch  4, CIFAR-10 Batch 4:  Loss:     1.5817 Valadation: 0.442800\n",
      "Epoch  4, CIFAR-10 Batch 5:  Loss:     1.6010 Valadation: 0.450800\n",
      "Epoch  5, CIFAR-10 Batch 1:  Loss:     1.6443 Valadation: 0.445400\n",
      "Epoch  5, CIFAR-10 Batch 2:  Loss:     1.6182 Valadation: 0.465200\n",
      "Epoch  5, CIFAR-10 Batch 3:  Loss:     1.1530 Valadation: 0.444400\n",
      "Epoch  5, CIFAR-10 Batch 4:  Loss:     1.5556 Valadation: 0.456600\n",
      "Epoch  5, CIFAR-10 Batch 5:  Loss:     1.4562 Valadation: 0.474800\n",
      "Epoch  6, CIFAR-10 Batch 1:  Loss:     1.5699 Valadation: 0.476000\n",
      "Epoch  6, CIFAR-10 Batch 2:  Loss:     1.4552 Valadation: 0.494600\n",
      "Epoch  6, CIFAR-10 Batch 3:  Loss:     1.0668 Valadation: 0.470200\n",
      "Epoch  6, CIFAR-10 Batch 4:  Loss:     1.4719 Valadation: 0.477000\n",
      "Epoch  6, CIFAR-10 Batch 5:  Loss:     1.3477 Valadation: 0.489600\n",
      "Epoch  7, CIFAR-10 Batch 1:  Loss:     1.4854 Valadation: 0.492400\n",
      "Epoch  7, CIFAR-10 Batch 2:  Loss:     1.3331 Valadation: 0.499000\n",
      "Epoch  7, CIFAR-10 Batch 3:  Loss:     1.0545 Valadation: 0.461200\n",
      "Epoch  7, CIFAR-10 Batch 4:  Loss:     1.4093 Valadation: 0.502400\n",
      "Epoch  7, CIFAR-10 Batch 5:  Loss:     1.3215 Valadation: 0.484200\n",
      "Epoch  8, CIFAR-10 Batch 1:  Loss:     1.3561 Valadation: 0.515000\n",
      "Epoch  8, CIFAR-10 Batch 2:  Loss:     1.2434 Valadation: 0.507200\n",
      "Epoch  8, CIFAR-10 Batch 3:  Loss:     0.9929 Valadation: 0.495000\n",
      "Epoch  8, CIFAR-10 Batch 4:  Loss:     1.3138 Valadation: 0.528600\n",
      "Epoch  8, CIFAR-10 Batch 5:  Loss:     1.2619 Valadation: 0.500800\n",
      "Epoch  9, CIFAR-10 Batch 1:  Loss:     1.2948 Valadation: 0.509600\n",
      "Epoch  9, CIFAR-10 Batch 2:  Loss:     1.1650 Valadation: 0.532600\n",
      "Epoch  9, CIFAR-10 Batch 3:  Loss:     0.9297 Valadation: 0.493000\n",
      "Epoch  9, CIFAR-10 Batch 4:  Loss:     1.3301 Valadation: 0.523800\n",
      "Epoch  9, CIFAR-10 Batch 5:  Loss:     1.2132 Valadation: 0.532000\n",
      "Epoch 10, CIFAR-10 Batch 1:  Loss:     1.2323 Valadation: 0.544000\n",
      "Epoch 10, CIFAR-10 Batch 2:  Loss:     1.1091 Valadation: 0.510400\n",
      "Epoch 10, CIFAR-10 Batch 3:  Loss:     0.8407 Valadation: 0.526000\n",
      "Epoch 10, CIFAR-10 Batch 4:  Loss:     1.2386 Valadation: 0.537600\n",
      "Epoch 10, CIFAR-10 Batch 5:  Loss:     1.1779 Valadation: 0.527800\n",
      "Epoch 11, CIFAR-10 Batch 1:  Loss:     1.2118 Valadation: 0.524200\n",
      "Epoch 11, CIFAR-10 Batch 2:  Loss:     1.0306 Valadation: 0.535400\n",
      "Epoch 11, CIFAR-10 Batch 3:  Loss:     0.7888 Valadation: 0.550800\n",
      "Epoch 11, CIFAR-10 Batch 4:  Loss:     1.1184 Valadation: 0.555800\n",
      "Epoch 11, CIFAR-10 Batch 5:  Loss:     1.1677 Valadation: 0.525600\n",
      "Epoch 12, CIFAR-10 Batch 1:  Loss:     1.1002 Valadation: 0.567800\n",
      "Epoch 12, CIFAR-10 Batch 2:  Loss:     0.9900 Valadation: 0.547600\n",
      "Epoch 12, CIFAR-10 Batch 3:  Loss:     0.7107 Valadation: 0.559200\n",
      "Epoch 12, CIFAR-10 Batch 4:  Loss:     1.0389 Valadation: 0.571200\n",
      "Epoch 12, CIFAR-10 Batch 5:  Loss:     1.0417 Valadation: 0.553000\n",
      "Epoch 13, CIFAR-10 Batch 1:  Loss:     1.0256 Valadation: 0.570600\n",
      "Epoch 13, CIFAR-10 Batch 2:  Loss:     0.9684 Valadation: 0.569000\n",
      "Epoch 13, CIFAR-10 Batch 3:  Loss:     0.7109 Valadation: 0.574400\n",
      "Epoch 13, CIFAR-10 Batch 4:  Loss:     0.9977 Valadation: 0.577200\n",
      "Epoch 13, CIFAR-10 Batch 5:  Loss:     1.0405 Valadation: 0.536200\n",
      "Epoch 14, CIFAR-10 Batch 1:  Loss:     0.9625 Valadation: 0.573800\n",
      "Epoch 14, CIFAR-10 Batch 2:  Loss:     0.8874 Valadation: 0.568800\n",
      "Epoch 14, CIFAR-10 Batch 3:  Loss:     0.7149 Valadation: 0.584800\n",
      "Epoch 14, CIFAR-10 Batch 4:  Loss:     0.9405 Valadation: 0.583600\n",
      "Epoch 14, CIFAR-10 Batch 5:  Loss:     0.9505 Valadation: 0.560800\n",
      "Epoch 15, CIFAR-10 Batch 1:  Loss:     0.8944 Valadation: 0.585600\n",
      "Epoch 15, CIFAR-10 Batch 2:  Loss:     0.8438 Valadation: 0.571200\n",
      "Epoch 15, CIFAR-10 Batch 3:  Loss:     0.6354 Valadation: 0.594400\n",
      "Epoch 15, CIFAR-10 Batch 4:  Loss:     0.8765 Valadation: 0.597400\n",
      "Epoch 15, CIFAR-10 Batch 5:  Loss:     0.9148 Valadation: 0.578200\n",
      "Epoch 16, CIFAR-10 Batch 1:  Loss:     0.8551 Valadation: 0.589800\n",
      "Epoch 16, CIFAR-10 Batch 2:  Loss:     0.7933 Valadation: 0.587600\n",
      "Epoch 16, CIFAR-10 Batch 3:  Loss:     0.6458 Valadation: 0.600600\n",
      "Epoch 16, CIFAR-10 Batch 4:  Loss:     0.8421 Valadation: 0.598200\n",
      "Epoch 16, CIFAR-10 Batch 5:  Loss:     0.8544 Valadation: 0.595000\n",
      "Epoch 17, CIFAR-10 Batch 1:  Loss:     0.8034 Valadation: 0.609400\n",
      "Epoch 17, CIFAR-10 Batch 2:  Loss:     0.7393 Valadation: 0.606400\n",
      "Epoch 17, CIFAR-10 Batch 3:  Loss:     0.6379 Valadation: 0.597800\n",
      "Epoch 17, CIFAR-10 Batch 4:  Loss:     0.8185 Valadation: 0.606800\n",
      "Epoch 17, CIFAR-10 Batch 5:  Loss:     0.8487 Valadation: 0.589400\n",
      "Epoch 18, CIFAR-10 Batch 1:  Loss:     0.7578 Valadation: 0.618000\n",
      "Epoch 18, CIFAR-10 Batch 2:  Loss:     0.7704 Valadation: 0.612800\n",
      "Epoch 18, CIFAR-10 Batch 3:  Loss:     0.5845 Valadation: 0.609800\n",
      "Epoch 18, CIFAR-10 Batch 4:  Loss:     0.7466 Valadation: 0.619800\n",
      "Epoch 18, CIFAR-10 Batch 5:  Loss:     0.7716 Valadation: 0.614200\n",
      "Epoch 19, CIFAR-10 Batch 1:  Loss:     0.7252 Valadation: 0.615400\n",
      "Epoch 19, CIFAR-10 Batch 2:  Loss:     0.7344 Valadation: 0.622200\n",
      "Epoch 19, CIFAR-10 Batch 3:  Loss:     0.5777 Valadation: 0.604600\n",
      "Epoch 19, CIFAR-10 Batch 4:  Loss:     0.7129 Valadation: 0.630400\n",
      "Epoch 19, CIFAR-10 Batch 5:  Loss:     0.7127 Valadation: 0.606800\n",
      "Epoch 20, CIFAR-10 Batch 1:  Loss:     0.6888 Valadation: 0.624400\n",
      "Epoch 20, CIFAR-10 Batch 2:  Loss:     0.6909 Valadation: 0.628600\n",
      "Epoch 20, CIFAR-10 Batch 3:  Loss:     0.5233 Valadation: 0.629600\n",
      "Epoch 20, CIFAR-10 Batch 4:  Loss:     0.7153 Valadation: 0.637800\n",
      "Epoch 20, CIFAR-10 Batch 5:  Loss:     0.6753 Valadation: 0.616200\n",
      "Epoch 21, CIFAR-10 Batch 1:  Loss:     0.6871 Valadation: 0.607600\n",
      "Epoch 21, CIFAR-10 Batch 2:  Loss:     0.6405 Valadation: 0.624800\n",
      "Epoch 21, CIFAR-10 Batch 3:  Loss:     0.5395 Valadation: 0.617400\n",
      "Epoch 21, CIFAR-10 Batch 4:  Loss:     0.7272 Valadation: 0.641200\n",
      "Epoch 21, CIFAR-10 Batch 5:  Loss:     0.6341 Valadation: 0.638800\n",
      "Epoch 22, CIFAR-10 Batch 1:  Loss:     0.6089 Valadation: 0.634200\n",
      "Epoch 22, CIFAR-10 Batch 2:  Loss:     0.6378 Valadation: 0.639400\n",
      "Epoch 22, CIFAR-10 Batch 3:  Loss:     0.4509 Valadation: 0.646000\n",
      "Epoch 22, CIFAR-10 Batch 4:  Loss:     0.6546 Valadation: 0.646400\n",
      "Epoch 22, CIFAR-10 Batch 5:  Loss:     0.6091 Valadation: 0.630400\n",
      "Epoch 23, CIFAR-10 Batch 1:  Loss:     0.5774 Valadation: 0.640600\n",
      "Epoch 23, CIFAR-10 Batch 2:  Loss:     0.6243 Valadation: 0.641400\n",
      "Epoch 23, CIFAR-10 Batch 3:  Loss:     0.4723 Valadation: 0.623800\n",
      "Epoch 23, CIFAR-10 Batch 4:  Loss:     0.6325 Valadation: 0.648200\n",
      "Epoch 23, CIFAR-10 Batch 5:  Loss:     0.5703 Valadation: 0.636600\n",
      "Epoch 24, CIFAR-10 Batch 1:  Loss:     0.5328 Valadation: 0.637200\n",
      "Epoch 24, CIFAR-10 Batch 2:  Loss:     0.5714 Valadation: 0.648000\n",
      "Epoch 24, CIFAR-10 Batch 3:  Loss:     0.4438 Valadation: 0.633600\n",
      "Epoch 24, CIFAR-10 Batch 4:  Loss:     0.6466 Valadation: 0.658000\n",
      "Epoch 24, CIFAR-10 Batch 5:  Loss:     0.5681 Valadation: 0.626800\n",
      "Epoch 25, CIFAR-10 Batch 1:  Loss:     0.5377 Valadation: 0.640000\n",
      "Epoch 25, CIFAR-10 Batch 2:  Loss:     0.6039 Valadation: 0.646000\n",
      "Epoch 25, CIFAR-10 Batch 3:  Loss:     0.4001 Valadation: 0.647200\n",
      "Epoch 25, CIFAR-10 Batch 4:  Loss:     0.6145 Valadation: 0.655600\n",
      "Epoch 25, CIFAR-10 Batch 5:  Loss:     0.5071 Valadation: 0.640800\n",
      "Epoch 26, CIFAR-10 Batch 1:  Loss:     0.4945 Valadation: 0.645200\n",
      "Epoch 26, CIFAR-10 Batch 2:  Loss:     0.5470 Valadation: 0.656000\n",
      "Epoch 26, CIFAR-10 Batch 3:  Loss:     0.3940 Valadation: 0.640600\n",
      "Epoch 26, CIFAR-10 Batch 4:  Loss:     0.5553 Valadation: 0.649600\n",
      "Epoch 26, CIFAR-10 Batch 5:  Loss:     0.5095 Valadation: 0.656600\n",
      "Epoch 27, CIFAR-10 Batch 1:  Loss:     0.4688 Valadation: 0.648600\n",
      "Epoch 27, CIFAR-10 Batch 2:  Loss:     0.5466 Valadation: 0.666800\n",
      "Epoch 27, CIFAR-10 Batch 3:  Loss:     0.4309 Valadation: 0.641200\n",
      "Epoch 27, CIFAR-10 Batch 4:  Loss:     0.5415 Valadation: 0.658000\n",
      "Epoch 27, CIFAR-10 Batch 5:  Loss:     0.4548 Valadation: 0.661600\n",
      "Epoch 28, CIFAR-10 Batch 1:  Loss:     0.4773 Valadation: 0.657400\n",
      "Epoch 28, CIFAR-10 Batch 2:  Loss:     0.5229 Valadation: 0.667000\n",
      "Epoch 28, CIFAR-10 Batch 3:  Loss:     0.3701 Valadation: 0.650000\n",
      "Epoch 28, CIFAR-10 Batch 4:  Loss:     0.5214 Valadation: 0.660000\n",
      "Epoch 28, CIFAR-10 Batch 5:  Loss:     0.4680 Valadation: 0.658400\n",
      "Epoch 29, CIFAR-10 Batch 1:  Loss:     0.4312 Valadation: 0.657600\n",
      "Epoch 29, CIFAR-10 Batch 2:  Loss:     0.4827 Valadation: 0.660800\n",
      "Epoch 29, CIFAR-10 Batch 3:  Loss:     0.3534 Valadation: 0.642400\n",
      "Epoch 29, CIFAR-10 Batch 4:  Loss:     0.4820 Valadation: 0.671000\n",
      "Epoch 29, CIFAR-10 Batch 5:  Loss:     0.4526 Valadation: 0.664200\n",
      "Epoch 30, CIFAR-10 Batch 1:  Loss:     0.3948 Valadation: 0.660600\n",
      "Epoch 30, CIFAR-10 Batch 2:  Loss:     0.4626 Valadation: 0.663600\n",
      "Epoch 30, CIFAR-10 Batch 3:  Loss:     0.3666 Valadation: 0.655800\n",
      "Epoch 30, CIFAR-10 Batch 4:  Loss:     0.4875 Valadation: 0.663800\n",
      "Epoch 30, CIFAR-10 Batch 5:  Loss:     0.4102 Valadation: 0.670000\n",
      "Epoch 31, CIFAR-10 Batch 1:  Loss:     0.4110 Valadation: 0.660800\n",
      "Epoch 31, CIFAR-10 Batch 2:  Loss:     0.4347 Valadation: 0.668800\n",
      "Epoch 31, CIFAR-10 Batch 3:  Loss:     0.3525 Valadation: 0.649600\n",
      "Epoch 31, CIFAR-10 Batch 4:  Loss:     0.4585 Valadation: 0.670400\n",
      "Epoch 31, CIFAR-10 Batch 5:  Loss:     0.4162 Valadation: 0.659000\n",
      "Epoch 32, CIFAR-10 Batch 1:  Loss:     0.3901 Valadation: 0.649000\n",
      "Epoch 32, CIFAR-10 Batch 2:  Loss:     0.4281 Valadation: 0.660000\n",
      "Epoch 32, CIFAR-10 Batch 3:  Loss:     0.3569 Valadation: 0.641800\n",
      "Epoch 32, CIFAR-10 Batch 4:  Loss:     0.4739 Valadation: 0.671200\n",
      "Epoch 32, CIFAR-10 Batch 5:  Loss:     0.4203 Valadation: 0.653400\n",
      "Epoch 33, CIFAR-10 Batch 1:  Loss:     0.3796 Valadation: 0.651800\n",
      "Epoch 33, CIFAR-10 Batch 2:  Loss:     0.3989 Valadation: 0.675400\n",
      "Epoch 33, CIFAR-10 Batch 3:  Loss:     0.3116 Valadation: 0.653800\n",
      "Epoch 33, CIFAR-10 Batch 4:  Loss:     0.3934 Valadation: 0.678800\n",
      "Epoch 33, CIFAR-10 Batch 5:  Loss:     0.3839 Valadation: 0.668800\n",
      "Epoch 34, CIFAR-10 Batch 1:  Loss:     0.3763 Valadation: 0.648200\n",
      "Epoch 34, CIFAR-10 Batch 2:  Loss:     0.4053 Valadation: 0.675200\n",
      "Epoch 34, CIFAR-10 Batch 3:  Loss:     0.3024 Valadation: 0.659000\n",
      "Epoch 34, CIFAR-10 Batch 4:  Loss:     0.4384 Valadation: 0.675600\n",
      "Epoch 34, CIFAR-10 Batch 5:  Loss:     0.3605 Valadation: 0.671000\n",
      "Epoch 35, CIFAR-10 Batch 1:  Loss:     0.3520 Valadation: 0.650400\n",
      "Epoch 35, CIFAR-10 Batch 2:  Loss:     0.3889 Valadation: 0.680400\n",
      "Epoch 35, CIFAR-10 Batch 3:  Loss:     0.2965 Valadation: 0.663800\n",
      "Epoch 35, CIFAR-10 Batch 4:  Loss:     0.4021 Valadation: 0.669200\n",
      "Epoch 35, CIFAR-10 Batch 5:  Loss:     0.3345 Valadation: 0.673600\n",
      "Epoch 36, CIFAR-10 Batch 1:  Loss:     0.3284 Valadation: 0.658600\n",
      "Epoch 36, CIFAR-10 Batch 2:  Loss:     0.3592 Valadation: 0.677800\n",
      "Epoch 36, CIFAR-10 Batch 3:  Loss:     0.2825 Valadation: 0.661000\n",
      "Epoch 36, CIFAR-10 Batch 4:  Loss:     0.3666 Valadation: 0.678400\n",
      "Epoch 36, CIFAR-10 Batch 5:  Loss:     0.3169 Valadation: 0.672400\n",
      "Epoch 37, CIFAR-10 Batch 1:  Loss:     0.4083 Valadation: 0.635800\n",
      "Epoch 37, CIFAR-10 Batch 2:  Loss:     0.3611 Valadation: 0.674200\n",
      "Epoch 37, CIFAR-10 Batch 3:  Loss:     0.2923 Valadation: 0.661600\n",
      "Epoch 37, CIFAR-10 Batch 4:  Loss:     0.3872 Valadation: 0.675400\n",
      "Epoch 37, CIFAR-10 Batch 5:  Loss:     0.3346 Valadation: 0.663800\n",
      "Epoch 38, CIFAR-10 Batch 1:  Loss:     0.3143 Valadation: 0.656600\n",
      "Epoch 38, CIFAR-10 Batch 2:  Loss:     0.3412 Valadation: 0.672800\n",
      "Epoch 38, CIFAR-10 Batch 3:  Loss:     0.2487 Valadation: 0.669400\n",
      "Epoch 38, CIFAR-10 Batch 4:  Loss:     0.3797 Valadation: 0.683000\n",
      "Epoch 38, CIFAR-10 Batch 5:  Loss:     0.3216 Valadation: 0.674000\n",
      "Epoch 39, CIFAR-10 Batch 1:  Loss:     0.2882 Valadation: 0.670800\n",
      "Epoch 39, CIFAR-10 Batch 2:  Loss:     0.2982 Valadation: 0.678000\n",
      "Epoch 39, CIFAR-10 Batch 3:  Loss:     0.2388 Valadation: 0.672400\n",
      "Epoch 39, CIFAR-10 Batch 4:  Loss:     0.3629 Valadation: 0.681200\n",
      "Epoch 39, CIFAR-10 Batch 5:  Loss:     0.2944 Valadation: 0.668200\n",
      "Epoch 40, CIFAR-10 Batch 1:  Loss:     0.3123 Valadation: 0.663400\n",
      "Epoch 40, CIFAR-10 Batch 2:  Loss:     0.2848 Valadation: 0.669200\n",
      "Epoch 40, CIFAR-10 Batch 3:  Loss:     0.2643 Valadation: 0.664000\n",
      "Epoch 40, CIFAR-10 Batch 4:  Loss:     0.3346 Valadation: 0.681000\n",
      "Epoch 40, CIFAR-10 Batch 5:  Loss:     0.2614 Valadation: 0.674800\n"
     ]
    }
   ],
   "source": [
    "\"\"\"\n",
    "DON'T MODIFY ANYTHING IN THIS CELL\n",
    "\"\"\"\n",
    "save_model_path = './image_classification'\n",
    "\n",
    "print('Training...')\n",
    "with tf.Session() as sess:\n",
    "    # Initializing the variables\n",
    "    sess.run(tf.global_variables_initializer())\n",
    "    \n",
    "    # Training cycle\n",
    "    for epoch in range(epochs):\n",
    "        # Loop over all batches\n",
    "        n_batches = 5\n",
    "        for batch_i in range(1, n_batches + 1):\n",
    "            for batch_features, batch_labels in helper.load_preprocess_training_batch(batch_i, batch_size):\n",
    "                train_neural_network(sess, optimizer, keep_probability, batch_features, batch_labels)\n",
    "            print('Epoch {:>2}, CIFAR-10 Batch {}:  '.format(epoch + 1, batch_i), end='')\n",
    "            print_stats(sess, batch_features, batch_labels, cost, accuracy)\n",
    "            \n",
    "    # Save Model\n",
    "    saver = tf.train.Saver()\n",
    "    save_path = saver.save(sess, save_model_path)"
   ]
  },
  {
   "cell_type": "markdown",
   "metadata": {},
   "source": [
    "# Checkpoint\n",
    "The model has been saved to disk.\n",
    "## Test Model\n",
    "Test your model against the test dataset.  This will be your final accuracy. You should have an accuracy greater than 50%. If you don't, keep tweaking the model architecture and parameters."
   ]
  },
  {
   "cell_type": "markdown",
   "metadata": {},
   "source": [
    "# 检查点\n",
    "\n",
    "该模型已经被存储到你的硬盘中。\n",
    "\n",
    "## 测试模型\n",
    "\n",
    "这部分将在测试数据集上测试你的模型。这边得到的准确率将作为你的最终准确率。你应该得到一个高于 50% 准确率。如果它没有超过 50%，那么你需要继续调整模型架构及参数。"
   ]
  },
  {
   "cell_type": "code",
   "execution_count": 15,
   "metadata": {
    "collapsed": false
   },
   "outputs": [
    {
     "name": "stdout",
     "output_type": "stream",
     "text": [
      "Testing Accuracy: 0.67236328125\n",
      "\n"
     ]
    },
    {
     "data": {
      "image/png": "[encoded data removed]",
      "text/plain": [
       "<matplotlib.figure.Figure at 0x27903a050f0>"
      ]
     },
     "metadata": {
      "image/png": {
       "height": 319,
       "width": 355
      }
     },
     "output_type": "display_data"
    }
   ],
   "source": [
    "\"\"\"\n",
    "DON'T MODIFY ANYTHING IN THIS CELL\n",
    "\"\"\"\n",
    "%matplotlib inline\n",
    "%config InlineBackend.figure_format = 'retina'\n",
    "\n",
    "import tensorflow as tf\n",
    "import pickle\n",
    "import helper\n",
    "import random\n",
    "\n",
    "# Set batch size if not already set\n",
    "try:\n",
    "    if batch_size:\n",
    "        pass\n",
    "except NameError:\n",
    "    batch_size = 64\n",
    "\n",
    "save_model_path = './image_classification'\n",
    "n_samples = 4\n",
    "top_n_predictions = 3\n",
    "\n",
    "def test_model():\n",
    "    \"\"\"\n",
    "    Test the saved model against the test dataset\n",
    "    \"\"\"\n",
    "\n",
    "    test_features, test_labels = pickle.load(open('preprocess_training.p', mode='rb'))\n",
    "    loaded_graph = tf.Graph()\n",
    "\n",
    "    with tf.Session(graph=loaded_graph) as sess:\n",
    "        # Load model\n",
    "        loader = tf.train.import_meta_graph(save_model_path + '.meta')\n",
    "        loader.restore(sess, save_model_path)\n",
    "\n",
    "        # Get Tensors from loaded model\n",
    "        loaded_x = loaded_graph.get_tensor_by_name('x:0')\n",
    "        loaded_y = loaded_graph.get_tensor_by_name('y:0')\n",
    "        loaded_keep_prob = loaded_graph.get_tensor_by_name('keep_prob:0')\n",
    "        loaded_logits = loaded_graph.get_tensor_by_name('logits:0')\n",
    "        loaded_acc = loaded_graph.get_tensor_by_name('accuracy:0')\n",
    "        \n",
    "        # Get accuracy in batches for memory limitations\n",
    "        test_batch_acc_total = 0\n",
    "        test_batch_count = 0\n",
    "        \n",
    "        for train_feature_batch, train_label_batch in helper.batch_features_labels(test_features, test_labels, batch_size):\n",
    "            test_batch_acc_total += sess.run(\n",
    "                loaded_acc,\n",
    "                feed_dict={loaded_x: train_feature_batch, loaded_y: train_label_batch, loaded_keep_prob: 1.0})\n",
    "            test_batch_count += 1\n",
    "\n",
    "        print('Testing Accuracy: {}\\n'.format(test_batch_acc_total/test_batch_count))\n",
    "\n",
    "        # Print Random Samples\n",
    "        random_test_features, random_test_labels = tuple(zip(*random.sample(list(zip(test_features, test_labels)), n_samples)))\n",
    "        random_test_predictions = sess.run(\n",
    "            tf.nn.top_k(tf.nn.softmax(loaded_logits), top_n_predictions),\n",
    "            feed_dict={loaded_x: random_test_features, loaded_y: random_test_labels, loaded_keep_prob: 1.0})\n",
    "        helper.display_image_predictions(random_test_features, random_test_labels, random_test_predictions)\n",
    "\n",
    "\n",
    "test_model()"
   ]
  },
  {
   "cell_type": "markdown",
   "metadata": {},
   "source": [
    "## Why 50-80% Accuracy?\n",
    "You might be wondering why you can't get an accuracy any higher. First things first, 50% isn't bad for a simple CNN.  Pure guessing would get you 10% accuracy. That's because there are many more techniques that can be applied to your model and we recemmond that once you are done with this project, you explore!\n",
    "\n",
    "## Submitting This Project\n",
    "When submitting this project, make sure to run all the cells before saving the notebook.  Save the notebook file as \"image_classification.ipynb\" and save it as a HTML file under \"File\" -> \"Download as\".  Include the \"helper.py\" and \"problem_unittests.py\" files in your submission."
   ]
  },
  {
   "cell_type": "markdown",
   "metadata": {},
   "source": [
    "## 为什么仅有 50%~ 80% 的准确率？\n",
    "\n",
    "你也许会觉得奇怪，为什么你的准确率总是提高不上去。对于简单的 CNN 网络而言，50% 并非是很差的表现。纯粹的猜测只会得到 10% 的准确率（因为一共有 10 类）。这是因为还有许多许多能够应用到你模型的技巧。在你做完了该项目之后，你可以探索探索我们给你推荐的一些方法。\n",
    "\n",
    "\n",
    "## 提交该项目\n",
    "\n",
    "在提交项目前，请确保你在运行了所有的 cell 之后保存了项目。将项目储存为 \"image_classification.ipynb\" 并导出为一个 HTML 文件。你可以再菜单栏中选择 File -> Download as 进行导出。请将 \"helper.py\" 及  \"problem_unittests.py\" 文件也放在你的提交文件中。"
   ]
  },
  {
   "cell_type": "code",
   "execution_count": null,
   "metadata": {
    "collapsed": true
   },
   "outputs": [],
   "source": []
  }
 ],
 "metadata": {
  "anaconda-cloud": {},
  "kernelspec": {
   "display_name": "Python 3",
   "language": "python",
   "name": "python3"
  },
  "language_info": {
   "codemirror_mode": {
    "name": "ipython",
    "version": 3
   },
   "file_extension": ".py",
   "mimetype": "text/x-python",
   "name": "python",
   "nbconvert_exporter": "python",
   "pygments_lexer": "ipython3",
   "version": "3.5.2"
  }
 },
 "nbformat": 4,
 "nbformat_minor": 1
}
